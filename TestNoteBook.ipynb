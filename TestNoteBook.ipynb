{
 "cells": [
  {
   "cell_type": "code",
   "execution_count": 2,
   "source": [
    "import pysam \n",
    "import pandas as pd\n",
    "import sys\n",
    "sys.path.append(\"./scripts\")\n",
    "import utils"
   ],
   "outputs": [],
   "metadata": {}
  },
  {
   "cell_type": "code",
   "execution_count": 3,
   "source": [
    "df = pd.read_csv(\"/Users/zluo/TestData/GENCODE/GRCh38/gencode.v31.primary_assembly.protein_coding.exon.srt.bed\",sep='\\t', names=['chrom','start','end','name','score','strand'])"
   ],
   "outputs": [],
   "metadata": {}
  },
  {
   "cell_type": "code",
   "execution_count": 4,
   "source": [
    "fa = pysam.FastaFile(\"/Users/zluo/TestData/GENCODE/GRCh38/Sequence/GRCh38.p13.genome.fa\")"
   ],
   "outputs": [],
   "metadata": {}
  },
  {
   "cell_type": "code",
   "execution_count": 5,
   "source": [
    "gtf_gene, gtf_ts, gtf_exon, gtf_CDS = utils.parse_gtf(\"../TestData/GENCODE/GRCh38/Annotation/gencode.v31.primary_assembly.annotation.gtf\")"
   ],
   "outputs": [
    {
     "output_type": "stream",
     "name": "stderr",
     "text": [
      "Dask Apply: 100%|██████████| 24/24 [00:24<00:00,  1.03s/it]\n",
      "Dask Apply: 100%|██████████| 24/24 [04:15<00:00, 10.65s/it]\n",
      "Dask Apply: 100%|██████████| 24/24 [27:20<00:00, 68.36s/it]\n",
      "Dask Apply: 100%|██████████| 24/24 [16:25<00:00, 41.08s/it]\n"
     ]
    }
   ],
   "metadata": {}
  },
  {
   "cell_type": "code",
   "execution_count": 7,
   "source": [
    "gtf_gene.to_csv('../TestData/GENCODE/GRCh38/Annotation/gencode.v31.primary_assembly.annotation.gene.tab',sep='\\t',index=False)\n",
    "gtf_ts.to_csv('../TestData/GENCODE/GRCh38/Annotation/gencode.v31.primary_assembly.annotation.ts.tab',sep='\\t',index=False)\n",
    "gtf_exon.to_csv('../TestData/GENCODE/GRCh38/Annotation/gencode.v31.primary_assembly.annotation.exon.tab',sep='\\t',index=False)\n",
    "gtf_CDS.to_csv('../TestData/GENCODE/GRCh38/Annotation/gencode.v31.primary_assembly.annotation.CDS.tab',sep='\\t',index=False)"
   ],
   "outputs": [],
   "metadata": {}
  },
  {
   "cell_type": "code",
   "execution_count": 11,
   "source": [
    "gtf_gene = pd.read_csv('../TestData/GENCODE/GRCh38/Annotation/gencode.v31.primary_assembly.annotation.gene.tab',sep='\\t')\n",
    "gtf_ts = pd.read_csv('../TestData/GENCODE/GRCh38/Annotation/gencode.v31.primary_assembly.annotation.ts.tab',sep='\\t', dtype={'transcript_support_level':str})\n",
    "gtf_exon = pd.read_csv('../TestData/GENCODE/GRCh38/Annotation/gencode.v31.primary_assembly.annotation.exon.tab',sep='\\t')\n",
    "gtf_CDS = pd.read_csv('../TestData/GENCODE/GRCh38/Annotation/gencode.v31.primary_assembly.annotation.CDS.tab',sep='\\t')"
   ],
   "outputs": [],
   "metadata": {}
  },
  {
   "cell_type": "code",
   "execution_count": 12,
   "source": [
    "# assign cds to transcripts\n",
    "gtf_ts = utils.assign_cds_to_ts(gtf_ts, gtf_CDS)\n",
    "gtf_ts.to_csv('../TestData/GENCODE/GRCh38/Annotation/gencode.v31.primary_assembly.annotation.ts.tab',sep='\\t',index=False)"
   ],
   "outputs": [],
   "metadata": {}
  },
  {
   "cell_type": "code",
   "execution_count": 5,
   "source": [
    "gtf_gene_coding = gtf_gene[gtf_gene['gene_type'] == 'protein_coding']\n",
    "gtf_ts_coding = gtf_ts[gtf_ts['gene_id'].isin(gtf_gene_coding['gene_id'])]\n",
    "gtf_ts_coding_tsl1and2 = gtf_ts_coding[gtf_ts_coding['transcript_support_level'].isin(['1','2',1,2])]\n",
    "gtf_exon_coding_tsl1and2 = gtf_exon[gtf_exon['transcript_id'].isin(gtf_ts_coding_tsl1and2['transcript_id'])]"
   ],
   "outputs": [],
   "metadata": {}
  },
  {
   "cell_type": "code",
   "execution_count": 15,
   "source": [
    "gtf_gene_coding\n",
    "gtf_ts_coding_tsl1and2_sample = gtf_ts_coding_tsl1and2.sample(n=1000, random_state=1992)\n",
    "with open('/Users/zluo/TestData/GENCODE/GRCh38/gtf_ts_coding_tsl1and2_sample1000_intron.bed', 'w') as intron_bed:\n",
    "    for idx, row in gtf_ts_coding_tsl1and2_sample.iterrows():\n",
    "        ts_id = row['transcript_id']\n",
    "        exons  = gtf_exon_coding_tsl1and2[gtf_exon_coding_tsl1and2['transcript_id'] == ts_id]\n",
    "        exons = exons.sort_values('exon_number')\n",
    "        exon_cnt = exons['exon_number'].max()\n",
    "        if exon_cnt < 2:\n",
    "            continue\n",
    "        for idx_exon, exon in exons.iterrows():\n",
    "            exon_number = exon['exon_number']\n",
    "            if exon_number == 1:\n",
    "                exon_end = int(exon['end'])\n",
    "                continue\n",
    "            else:\n",
    "                exon_start = int(exon['start'])\n",
    "                intron_start = exon_end\n",
    "                intron_end = exon_start\n",
    "                exon_end = int(exon['end'])\n",
    "            intron_chrom = exon['seqname']\n",
    "            intron_name = '{}:{}:{}'.format(exon['gene_name'],exon['transcript_id'],exon_number-1)\n",
    "            intron_score = row['transcript_support_level']\n",
    "            intron_strand = exon['strand']\n",
    "            intron_bed.write('{}\\t{}\\t{}\\t{}\\t{}\\t{}\\n'.format(intron_chrom, intron_start, intron_end, intron_name, int(intron_score), intron_strand))"
   ],
   "outputs": [],
   "metadata": {}
  },
  {
   "cell_type": "code",
   "execution_count": 65,
   "source": [
    "def get_alt_exons(gtf_ts, gtf_exon):\n",
    "    gtf_exon = gtf_exon.to_dict('index')\n",
    "    gtf_ts = gtf_ts.to_dict('index')\n",
    "    gene_ts_cnt = dict()\n",
    "    exon_usage = dict()\n",
    "    ts_exon_dict = dict()\n",
    "    for idx in gtf_exon:\n",
    "        transcript_id = gtf_exon[idx]['transcript_id']\n",
    "        if transcript_id not in ts_exon_dict:\n",
    "            ts_exon_dict[transcript_id] = list()\n",
    "        ts_exon_dict[transcript_id].append(idx)\n",
    "    \n",
    "    for idx in gtf_ts:\n",
    "        gene_id = gtf_ts[idx]['gene_id']\n",
    "        if gene_id not in gene_ts_cnt:\n",
    "            gene_ts_cnt[gene_id] = 0\n",
    "        gene_ts_cnt[gene_id] += 1\n",
    "    \n",
    "    for transcript_id in ts_exon_dict:\n",
    "        exon_set = sorted(ts_exon_dict[transcript_id])\n",
    "        exon_num = len(exon_set)\n",
    "        for i, exon_idx in enumerate(exon_set):\n",
    "            if i == 0 or i == exon_num - 1:\n",
    "                continue\n",
    "\n",
    "            gene_id = gtf_exon[exon_idx]['gene_id']\n",
    "            exon_id = gtf_exon[exon_idx]['seqname'] + str(gtf_exon[exon_idx]['start']) + str(gtf_exon[exon_idx]['end']) + gtf_exon[exon_idx]['strand']\n",
    "            if exon_id not in exon_usage:\n",
    "                exon_usage[exon_id] = 0\n",
    "            exon_usage[exon_id] += 1\n",
    "    alt_exon_idx = list()\n",
    "    alt_exon_coord = set()\n",
    "    for idx in gtf_exon:\n",
    "        exon_id = gtf_exon[idx]['seqname'] + str(gtf_exon[idx]['start']) + str(gtf_exon[idx]['end']) + gtf_exon[idx]['strand']\n",
    "        gene_id = gtf_exon[idx]['gene_id']\n",
    "        if exon_id in exon_usage and gene_id in gene_ts_cnt:\n",
    "            if exon_usage[exon_id] != gene_ts_cnt[gene_id]:\n",
    "                if exon_id not in alt_exon_coord:\n",
    "                    alt_exon_idx.append(idx)\n",
    "                    alt_exon_coord.add(exon_id)\n",
    "                \n",
    "    return alt_exon_idx"
   ],
   "outputs": [],
   "metadata": {}
  },
  {
   "cell_type": "code",
   "execution_count": 66,
   "source": [
    "exon_idx_list = get_alt_exons(gtf_ts_coding_tsl1and2, gtf_exon)\n",
    "gtf_exon_dict = gtf_exon.to_dict('index')\n",
    "\n",
    "with open('/Users/zluo/TestData/GENCODE/GRCh38/gencode.v31.primary_assembly.coding.alt.exon.bed', 'w') as alt_exon:\n",
    "    for idx in exon_idx_list:\n",
    "        exon = gtf_exon_dict[idx]\n",
    "        # gtf coordinates are 1-based, remember to covert to 0-based.\n",
    "        alt_exon.write('{}\\t{}\\t{}\\t{}\\t{}\\t{}\\n'.format(exon['seqname'], exon['start']-1  , exon['end'], exon['exon_id'], '.', exon['strand']))"
   ],
   "outputs": [],
   "metadata": {}
  },
  {
   "cell_type": "code",
   "execution_count": 76,
   "source": [
    "def get_introns(gtf_ts, gtf_exon):\n",
    "    gtf_ts = gtf_ts.to_dict('index')\n",
    "    gtf_exon = gtf_exon.to_dict('index')\n",
    "    ts_exon_dict = dict()\n",
    "    for idx in gtf_exon:\n",
    "        transcript_id = gtf_exon[idx]['transcript_id']\n",
    "        if transcript_id not in ts_exon_dict:\n",
    "            ts_exon_dict[transcript_id] = list()\n",
    "        ts_exon_dict[transcript_id].append(idx)\n",
    "    \n",
    "    for ts_idx in gtf_ts:\n",
    "        transcript_id = gtf_ts[ts_idx]['transcript_id']\n",
    "        exon_set = sorted(ts_exon_dict[transcript_id])\n",
    "        exon_num = len(exon_set)\n",
    "        if exon_num < 2:\n",
    "            continue\n",
    "        intron_chrom = gtf_ts[ts_idx]['seqname']\n",
    "        intron_strand = gtf_ts[ts_idx]['strand']\n",
    "        intron_start = 0\n",
    "        intron_end = 0\n",
    "        for i, exon_idx in enumerate(exon_set):\n",
    "            if i == 0:\n",
    "                if intron_strand == '+':\n",
    "                    intron_start = gtf_exon[exon_idx]['end']\n",
    "                else:\n",
    "                    intron_end = gtf_exon[exon_idx]['start']\n",
    "            else:\n",
    "                if intron_strand == '+':\n",
    "                    intron_end = gtf_exon[exon_idx]['start']\n",
    "                else:\n",
    "                    intron_start = gtf_exon[exon_idx]['end']\n",
    "                intron_name = transcript_id+'_'+str(i)\n",
    "                yield '{}\\t{}\\t{}\\t{}\\t{}\\t{}\\n'.format(intron_chrom, intron_start, intron_end, intron_name, '.', intron_strand)\n",
    "                if intron_strand == '+':\n",
    "                    intron_start = gtf_exon[exon_idx]['end']\n",
    "                else:\n",
    "                    intron_end = gtf_exon[exon_idx]['start']"
   ],
   "outputs": [],
   "metadata": {}
  },
  {
   "cell_type": "code",
   "execution_count": 77,
   "source": [
    "with open('/Users/zluo/TestData/GENCODE/GRCh38/gencode.v31.primary_assembly.coding.intron.bed', 'w') as intron_bed:\n",
    "    for intron in get_introns(gtf_ts_coding_tsl1and2, gtf_exon):\n",
    "        intron_bed.write(intron)"
   ],
   "outputs": [],
   "metadata": {}
  },
  {
   "cell_type": "code",
   "execution_count": 40,
   "source": [
    "event_stat = pd.read_csv(\"~/TestData/event_stat.tab\", sep='\\t')\n",
    "gtf_ts['start'] = pd.to_numeric(gtf_ts['start'])\n",
    "gtf_ts['end'] = pd.to_numeric(gtf_ts['end'])\n",
    "event_dis_stat = list()\n",
    "for idx, event in event_stat.iterrows():\n",
    "    coord = event['coord']\n",
    "    chrom = coord.split(':')[0]\n",
    "    strand = coord.split(':')[2]\n",
    "    start = int(coord.split(':')[1].split('-')[0])\n",
    "    end = int(coord.split(':')[1].split('-')[1])\n",
    "    protein = event['protein']\n",
    "    #if 'PABPC1' not in protein.split(','):\n",
    "        #continue\n",
    "    target_ts = gtf_ts[gtf_ts['seqname']==chrom]\n",
    "    target_ts = target_ts[target_ts['strand']==strand]\n",
    "    target_ts = target_ts[(target_ts['start']<= start) & (target_ts['end']>=end)]\n",
    "    target_ts = target_ts.head(1)\n",
    "    if strand == '+':\n",
    "        dis_abs =  int(target_ts['end'] - start)\n",
    "        dis_prop = float((start - target_ts['start']) / (target_ts['end'] -target_ts['start']))\n",
    "    else:\n",
    "        dis_abs = int(end - target_ts['start'])\n",
    "        dis_prop = float((end - target_ts['start']) / (target_ts['end'] -target_ts['start']))\n",
    "    event_dis_stat.append([dis_abs, dis_prop])\n",
    "event_dis_stat = pd.DataFrame(event_dis_stat, columns=['dis_abs','dis_prop'])"
   ],
   "outputs": [],
   "metadata": {}
  },
  {
   "cell_type": "code",
   "execution_count": 41,
   "source": [
    "import seaborn as sns\n",
    "\n",
    "ax = sns.displot(x='dis_prop',  data=event_dis_stat)\n",
    "#_ = ax.set_xticklabels(ax.get_xticklabels(),rotation=90)\n"
   ],
   "outputs": [
    {
     "output_type": "display_data",
     "data": {
      "image/png": "[encoded data removed]",
      "text/plain": [
       "<Figure size 360x360 with 1 Axes>"
      ]
     },
     "metadata": {
      "needs_background": "light"
     }
    }
   ],
   "metadata": {}
  }
 ],
 "metadata": {
  "kernelspec": {
   "name": "python3",
   "display_name": "Python 3.6.13 64-bit ('defcomp': conda)"
  },
  "language_info": {
   "codemirror_mode": {
    "name": "ipython",
    "version": 3
   },
   "file_extension": ".py",
   "mimetype": "text/x-python",
   "name": "python",
   "nbconvert_exporter": "python",
   "pygments_lexer": "ipython3",
   "version": "3.6.13"
  },
  "interpreter": {
   "hash": "ab868fc8bf654ec94d4feddc3281e92c312f95aedf02d0519971ccf21f966c8d"
  }
 },
 "nbformat": 4,
 "nbformat_minor": 4
}