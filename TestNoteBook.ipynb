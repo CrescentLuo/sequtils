{
 "cells": [
  {
   "cell_type": "code",
   "execution_count": 37,
   "metadata": {},
   "outputs": [],
   "source": [
    "import pysam \n",
    "import pandas as pd \n",
    "import utils"
   ]
  },
  {
   "cell_type": "code",
   "execution_count": 8,
   "metadata": {},
   "outputs": [],
   "source": [
    "df = pd.read_csv(\"/Users/zluo/TestData/GENCODE/GRCh38/gencode.v31.primary_assembly.protein_coding.exon.srt.bed\",sep='\\t', names=['chrom','start','end','name','score','strand'])"
   ]
  },
  {
   "cell_type": "code",
   "execution_count": 10,
   "metadata": {},
   "outputs": [],
   "source": [
    "fa = pysam.FastaFile(\"/Users/zluo/TestData/GENCODE/GRCh38/Sequence/GRCh38.p13.genome.fa\")"
   ]
  },
  {
   "cell_type": "code",
   "execution_count": null,
   "metadata": {},
   "outputs": [
    {
     "data": {
      "application/vnd.jupyter.widget-view+json": {
       "model_id": "05accc57c0d148bd86bb7930c2469ccb",
       "version_major": 2,
       "version_minor": 0
      },
      "text/plain": [
       "Dask Apply:   0%|          | 0/24 [00:00<?, ?it/s]"
      ]
     },
     "metadata": {},
     "output_type": "display_data"
    },
    {
     "data": {
      "application/vnd.jupyter.widget-view+json": {
       "model_id": "374dcc44202046d6987649307d77a0d8",
       "version_major": 2,
       "version_minor": 0
      },
      "text/plain": [
       "Dask Apply:   0%|          | 0/24 [00:00<?, ?it/s]"
      ]
     },
     "metadata": {},
     "output_type": "display_data"
    },
    {
     "data": {
      "application/vnd.jupyter.widget-view+json": {
       "model_id": "ed559a42e76d4a20b29b9adfd0cceddb",
       "version_major": 2,
       "version_minor": 0
      },
      "text/plain": [
       "Dask Apply:   0%|          | 0/24 [00:00<?, ?it/s]"
      ]
     },
     "metadata": {},
     "output_type": "display_data"
    }
   ],
   "source": [
    "gtf_gene, gtf_ts, gtf_exon, gtf_CDS = utils.parse_gtf(\"../TestData/GENCODE/GRCh38/Annotation/gencode.v31.primary_assembly.annotation.gtf\")"
   ]
  },
  {
   "cell_type": "code",
   "execution_count": 4,
   "metadata": {},
   "outputs": [],
   "source": [
    "gtf_gene.to_csv('../TestData/GENCODE/GRCh38/Annotation/gencode.v31.primary_assembly.annotation.gene.tab',sep='\\t',index=False)\n",
    "gtf_ts.to_csv('../TestData/GENCODE/GRCh38/Annotation/gencode.v31.primary_assembly.annotation.ts.tab',sep='\\t',index=False)\n",
    "gtf_exon.to_csv('../TestData/GENCODE/GRCh38/Annotation/gencode.v31.primary_assembly.annotation.exon.tab',sep='\\t',index=False)\n",
    "gtf_CDS.to_csv('../TestData/GENCODE/GRCh38/Annotation/gencode.v31.primary_assembly.annotation.CDS.tab',sep='\\t',index=False)"
   ]
  },
  {
   "cell_type": "code",
   "execution_count": 3,
   "metadata": {},
   "outputs": [],
   "source": [
    "gtf_gene = pd.read_csv('../TestData/GENCODE/GRCh38/Annotation/gencode.v31.primary_assembly.annotation.gene.tab',sep='\\t')\n",
    "gtf_ts = pd.read_csv('../TestData/GENCODE/GRCh38/Annotation/gencode.v31.primary_assembly.annotation.ts.tab',sep='\\t')\n",
    "gtf_exon = pd.read_csv('../TestData/GENCODE/GRCh38/Annotation/gencode.v31.primary_assembly.annotation.exon.tab',sep='\\t')\n",
    "gtf_CDS = pd.read_csv('../TestData/GENCODE/GRCh38/Annotation/gencode.v31.primary_assembly.annotation.CDS.tab',sep='\\t')"
   ]
  },
  {
   "cell_type": "code",
   "execution_count": 6,
   "metadata": {},
   "outputs": [],
   "source": [
    "gtf_ts = utils.assign_cds_to_ts(gtf_ts, gtf_CDS)\n",
    "gtf_ts.to_csv('../TestData/GENCODE/GRCh38/Annotation/gencode.v31.primary_assembly.annotation.ts.tab',sep='\\t',index=False)"
   ]
  },
  {
   "cell_type": "code",
   "execution_count": null,
   "metadata": {},
   "outputs": [
    {
     "name": "stderr",
     "output_type": "stream",
     "text": [
      "ERROR:root:Internal Python error in the inspect module.\n",
      "Below is the traceback from this internal error.\n",
      "\n",
      "ERROR:root:Internal Python error in the inspect module.\n",
      "Below is the traceback from this internal error.\n",
      "\n",
      "ERROR:root:Internal Python error in the inspect module.\n",
      "Below is the traceback from this internal error.\n",
      "\n"
     ]
    },
    {
     "name": "stdout",
     "output_type": "stream",
     "text": [
      "Traceback (most recent call last):\n",
      "  File \"/Users/zluo/miniconda/envs/defcomp/lib/python3.6/site-packages/IPython/core/interactiveshell.py\", line 3343, in run_code\n",
      "    exec(code_obj, self.user_global_ns, self.user_ns)\n",
      "  File \"<ipython-input-1-12c72d8bd63c>\", line 2, in <module>\n",
      "    gtf_ts = utils.assign_cds_to_ts(gtf_ts, gtf_CDS)\n",
      "NameError: name 'utils' is not defined\n",
      "\n",
      "During handling of the above exception, another exception occurred:\n",
      "\n",
      "Traceback (most recent call last):\n",
      "  File \"/Users/zluo/miniconda/envs/defcomp/lib/python3.6/site-packages/IPython/core/interactiveshell.py\", line 2044, in showtraceback\n",
      "    stb = value._render_traceback_()\n",
      "AttributeError: 'NameError' object has no attribute '_render_traceback_'\n",
      "\n",
      "During handling of the above exception, another exception occurred:\n",
      "\n",
      "Traceback (most recent call last):\n",
      "  File \"/Users/zluo/miniconda/envs/defcomp/lib/python3.6/site-packages/IPython/core/ultratb.py\", line 1169, in get_records\n",
      "    return _fixed_getinnerframes(etb, number_of_lines_of_context, tb_offset)\n",
      "  File \"/Users/zluo/miniconda/envs/defcomp/lib/python3.6/site-packages/IPython/core/ultratb.py\", line 316, in wrapped\n",
      "    return f(*args, **kwargs)\n",
      "  File \"/Users/zluo/miniconda/envs/defcomp/lib/python3.6/site-packages/IPython/core/ultratb.py\", line 350, in _fixed_getinnerframes\n",
      "    records = fix_frame_records_filenames(inspect.getinnerframes(etb, context))\n",
      "  File \"/Users/zluo/miniconda/envs/defcomp/lib/python3.6/inspect.py\", line 1490, in getinnerframes\n",
      "    frameinfo = (tb.tb_frame,) + getframeinfo(tb, context)\n",
      "  File \"/Users/zluo/miniconda/envs/defcomp/lib/python3.6/inspect.py\", line 1448, in getframeinfo\n",
      "    filename = getsourcefile(frame) or getfile(frame)\n",
      "  File \"/Users/zluo/miniconda/envs/defcomp/lib/python3.6/inspect.py\", line 696, in getsourcefile\n",
      "    if getattr(getmodule(object, filename), '__loader__', None) is not None:\n",
      "  File \"/Users/zluo/miniconda/envs/defcomp/lib/python3.6/inspect.py\", line 725, in getmodule\n",
      "    file = getabsfile(object, _filename)\n",
      "  File \"/Users/zluo/miniconda/envs/defcomp/lib/python3.6/inspect.py\", line 709, in getabsfile\n",
      "    return os.path.normcase(os.path.abspath(_filename))\n",
      "  File \"/Users/zluo/miniconda/envs/defcomp/lib/python3.6/posixpath.py\", line 383, in abspath\n",
      "    cwd = os.getcwd()\n",
      "FileNotFoundError: [Errno 2] No such file or directory\n",
      "Traceback (most recent call last):\n",
      "  File \"/Users/zluo/miniconda/envs/defcomp/lib/python3.6/site-packages/IPython/core/interactiveshell.py\", line 3343, in run_code\n",
      "    exec(code_obj, self.user_global_ns, self.user_ns)\n",
      "  File \"<ipython-input-1-12c72d8bd63c>\", line 2, in <module>\n",
      "    gtf_ts = utils.assign_cds_to_ts(gtf_ts, gtf_CDS)\n",
      "NameError: name 'utils' is not defined\n",
      "\n",
      "During handling of the above exception, another exception occurred:\n",
      "\n",
      "Traceback (most recent call last):\n",
      "  File \"/Users/zluo/miniconda/envs/defcomp/lib/python3.6/site-packages/IPython/core/interactiveshell.py\", line 2044, in showtraceback\n",
      "    stb = value._render_traceback_()\n",
      "AttributeError: 'NameError' object has no attribute '_render_traceback_'\n",
      "\n",
      "During handling of the above exception, another exception occurred:\n",
      "\n",
      "Traceback (most recent call last):\n",
      "  File \"/Users/zluo/miniconda/envs/defcomp/lib/python3.6/site-packages/IPython/core/interactiveshell.py\", line 3263, in run_ast_nodes\n",
      "    if (await self.run_code(code, result,  async_=asy)):\n",
      "  File \"/Users/zluo/miniconda/envs/defcomp/lib/python3.6/site-packages/IPython/core/interactiveshell.py\", line 3360, in run_code\n",
      "    self.showtraceback(running_compiled_code=True)\n",
      "  File \"/Users/zluo/miniconda/envs/defcomp/lib/python3.6/site-packages/IPython/core/interactiveshell.py\", line 2047, in showtraceback\n",
      "    value, tb, tb_offset=tb_offset)\n",
      "  File \"/Users/zluo/miniconda/envs/defcomp/lib/python3.6/site-packages/IPython/core/ultratb.py\", line 1436, in structured_traceback\n",
      "    self, etype, value, tb, tb_offset, number_of_lines_of_context)\n",
      "  File \"/Users/zluo/miniconda/envs/defcomp/lib/python3.6/site-packages/IPython/core/ultratb.py\", line 1336, in structured_traceback\n",
      "    self, etype, value, tb, tb_offset, number_of_lines_of_context\n",
      "  File \"/Users/zluo/miniconda/envs/defcomp/lib/python3.6/site-packages/IPython/core/ultratb.py\", line 1193, in structured_traceback\n",
      "    tb_offset)\n",
      "  File \"/Users/zluo/miniconda/envs/defcomp/lib/python3.6/site-packages/IPython/core/ultratb.py\", line 1150, in format_exception_as_a_whole\n",
      "    last_unique, recursion_repeat = find_recursion(orig_etype, evalue, records)\n",
      "  File \"/Users/zluo/miniconda/envs/defcomp/lib/python3.6/site-packages/IPython/core/ultratb.py\", line 451, in find_recursion\n",
      "    return len(records), 0\n",
      "TypeError: object of type 'NoneType' has no len()\n",
      "\n",
      "During handling of the above exception, another exception occurred:\n",
      "\n",
      "Traceback (most recent call last):\n",
      "  File \"/Users/zluo/miniconda/envs/defcomp/lib/python3.6/site-packages/IPython/core/interactiveshell.py\", line 2044, in showtraceback\n",
      "    stb = value._render_traceback_()\n",
      "AttributeError: 'TypeError' object has no attribute '_render_traceback_'\n",
      "\n",
      "During handling of the above exception, another exception occurred:\n",
      "\n",
      "Traceback (most recent call last):\n",
      "  File \"/Users/zluo/miniconda/envs/defcomp/lib/python3.6/site-packages/IPython/core/ultratb.py\", line 1169, in get_records\n",
      "    return _fixed_getinnerframes(etb, number_of_lines_of_context, tb_offset)\n",
      "  File \"/Users/zluo/miniconda/envs/defcomp/lib/python3.6/site-packages/IPython/core/ultratb.py\", line 316, in wrapped\n",
      "    return f(*args, **kwargs)\n",
      "  File \"/Users/zluo/miniconda/envs/defcomp/lib/python3.6/site-packages/IPython/core/ultratb.py\", line 350, in _fixed_getinnerframes\n",
      "    records = fix_frame_records_filenames(inspect.getinnerframes(etb, context))\n",
      "  File \"/Users/zluo/miniconda/envs/defcomp/lib/python3.6/inspect.py\", line 1490, in getinnerframes\n",
      "    frameinfo = (tb.tb_frame,) + getframeinfo(tb, context)\n",
      "  File \"/Users/zluo/miniconda/envs/defcomp/lib/python3.6/inspect.py\", line 1448, in getframeinfo\n",
      "    filename = getsourcefile(frame) or getfile(frame)\n",
      "  File \"/Users/zluo/miniconda/envs/defcomp/lib/python3.6/inspect.py\", line 696, in getsourcefile\n",
      "    if getattr(getmodule(object, filename), '__loader__', None) is not None:\n",
      "  File \"/Users/zluo/miniconda/envs/defcomp/lib/python3.6/inspect.py\", line 725, in getmodule\n",
      "    file = getabsfile(object, _filename)\n",
      "  File \"/Users/zluo/miniconda/envs/defcomp/lib/python3.6/inspect.py\", line 709, in getabsfile\n",
      "    return os.path.normcase(os.path.abspath(_filename))\n",
      "  File \"/Users/zluo/miniconda/envs/defcomp/lib/python3.6/posixpath.py\", line 383, in abspath\n",
      "    cwd = os.getcwd()\n",
      "FileNotFoundError: [Errno 2] No such file or directory\n",
      "Traceback (most recent call last):\n",
      "  File \"/Users/zluo/miniconda/envs/defcomp/lib/python3.6/site-packages/IPython/core/interactiveshell.py\", line 3343, in run_code\n",
      "    exec(code_obj, self.user_global_ns, self.user_ns)\n",
      "  File \"<ipython-input-1-12c72d8bd63c>\", line 2, in <module>\n",
      "    gtf_ts = utils.assign_cds_to_ts(gtf_ts, gtf_CDS)\n",
      "NameError: name 'utils' is not defined\n",
      "\n",
      "During handling of the above exception, another exception occurred:\n",
      "\n",
      "Traceback (most recent call last):\n",
      "  File \"/Users/zluo/miniconda/envs/defcomp/lib/python3.6/site-packages/IPython/core/interactiveshell.py\", line 2044, in showtraceback\n",
      "    stb = value._render_traceback_()\n",
      "AttributeError: 'NameError' object has no attribute '_render_traceback_'\n",
      "\n",
      "During handling of the above exception, another exception occurred:\n",
      "\n",
      "Traceback (most recent call last):\n",
      "  File \"/Users/zluo/miniconda/envs/defcomp/lib/python3.6/site-packages/IPython/core/interactiveshell.py\", line 3263, in run_ast_nodes\n",
      "    if (await self.run_code(code, result,  async_=asy)):\n",
      "  File \"/Users/zluo/miniconda/envs/defcomp/lib/python3.6/site-packages/IPython/core/interactiveshell.py\", line 3360, in run_code\n",
      "    self.showtraceback(running_compiled_code=True)\n",
      "  File \"/Users/zluo/miniconda/envs/defcomp/lib/python3.6/site-packages/IPython/core/interactiveshell.py\", line 2047, in showtraceback\n",
      "    value, tb, tb_offset=tb_offset)\n",
      "  File \"/Users/zluo/miniconda/envs/defcomp/lib/python3.6/site-packages/IPython/core/ultratb.py\", line 1436, in structured_traceback\n",
      "    self, etype, value, tb, tb_offset, number_of_lines_of_context)\n",
      "  File \"/Users/zluo/miniconda/envs/defcomp/lib/python3.6/site-packages/IPython/core/ultratb.py\", line 1336, in structured_traceback\n",
      "    self, etype, value, tb, tb_offset, number_of_lines_of_context\n",
      "  File \"/Users/zluo/miniconda/envs/defcomp/lib/python3.6/site-packages/IPython/core/ultratb.py\", line 1193, in structured_traceback\n",
      "    tb_offset)\n",
      "  File \"/Users/zluo/miniconda/envs/defcomp/lib/python3.6/site-packages/IPython/core/ultratb.py\", line 1150, in format_exception_as_a_whole\n",
      "    last_unique, recursion_repeat = find_recursion(orig_etype, evalue, records)\n",
      "  File \"/Users/zluo/miniconda/envs/defcomp/lib/python3.6/site-packages/IPython/core/ultratb.py\", line 451, in find_recursion\n",
      "    return len(records), 0\n",
      "TypeError: object of type 'NoneType' has no len()\n",
      "\n",
      "During handling of the above exception, another exception occurred:\n",
      "\n",
      "Traceback (most recent call last):\n",
      "  File \"/Users/zluo/miniconda/envs/defcomp/lib/python3.6/site-packages/IPython/core/interactiveshell.py\", line 2044, in showtraceback\n",
      "    stb = value._render_traceback_()\n",
      "AttributeError: 'TypeError' object has no attribute '_render_traceback_'\n",
      "\n",
      "During handling of the above exception, another exception occurred:\n",
      "\n",
      "Traceback (most recent call last):\n",
      "  File \"/Users/zluo/miniconda/envs/defcomp/lib/python3.6/site-packages/IPython/core/interactiveshell.py\", line 2895, in _run_cell\n",
      "    return runner(coro)\n",
      "  File \"/Users/zluo/miniconda/envs/defcomp/lib/python3.6/site-packages/IPython/core/async_helpers.py\", line 68, in _pseudo_sync_runner\n",
      "    coro.send(None)\n",
      "  File \"/Users/zluo/miniconda/envs/defcomp/lib/python3.6/site-packages/IPython/core/interactiveshell.py\", line 3072, in run_cell_async\n",
      "    interactivity=interactivity, compiler=compiler, result=result)\n",
      "  File \"/Users/zluo/miniconda/envs/defcomp/lib/python3.6/site-packages/IPython/core/interactiveshell.py\", line 3282, in run_ast_nodes\n",
      "    self.showtraceback()\n",
      "  File \"/Users/zluo/miniconda/envs/defcomp/lib/python3.6/site-packages/IPython/core/interactiveshell.py\", line 2047, in showtraceback\n",
      "    value, tb, tb_offset=tb_offset)\n",
      "  File \"/Users/zluo/miniconda/envs/defcomp/lib/python3.6/site-packages/IPython/core/ultratb.py\", line 1436, in structured_traceback\n",
      "    self, etype, value, tb, tb_offset, number_of_lines_of_context)\n",
      "  File \"/Users/zluo/miniconda/envs/defcomp/lib/python3.6/site-packages/IPython/core/ultratb.py\", line 1336, in structured_traceback\n",
      "    self, etype, value, tb, tb_offset, number_of_lines_of_context\n",
      "  File \"/Users/zluo/miniconda/envs/defcomp/lib/python3.6/site-packages/IPython/core/ultratb.py\", line 1211, in structured_traceback\n",
      "    chained_exceptions_tb_offset)\n",
      "  File \"/Users/zluo/miniconda/envs/defcomp/lib/python3.6/site-packages/IPython/core/ultratb.py\", line 1150, in format_exception_as_a_whole\n",
      "    last_unique, recursion_repeat = find_recursion(orig_etype, evalue, records)\n",
      "  File \"/Users/zluo/miniconda/envs/defcomp/lib/python3.6/site-packages/IPython/core/ultratb.py\", line 451, in find_recursion\n",
      "    return len(records), 0\n",
      "TypeError: object of type 'NoneType' has no len()\n",
      "\n",
      "During handling of the above exception, another exception occurred:\n",
      "\n",
      "Traceback (most recent call last):\n",
      "  File \"/Users/zluo/miniconda/envs/defcomp/lib/python3.6/site-packages/IPython/core/interactiveshell.py\", line 2044, in showtraceback\n",
      "    stb = value._render_traceback_()\n",
      "AttributeError: 'TypeError' object has no attribute '_render_traceback_'\n",
      "\n",
      "During handling of the above exception, another exception occurred:\n",
      "\n",
      "Traceback (most recent call last):\n",
      "  File \"/Users/zluo/miniconda/envs/defcomp/lib/python3.6/site-packages/IPython/core/ultratb.py\", line 1169, in get_records\n",
      "    return _fixed_getinnerframes(etb, number_of_lines_of_context, tb_offset)\n",
      "  File \"/Users/zluo/miniconda/envs/defcomp/lib/python3.6/site-packages/IPython/core/ultratb.py\", line 316, in wrapped\n",
      "    return f(*args, **kwargs)\n",
      "  File \"/Users/zluo/miniconda/envs/defcomp/lib/python3.6/site-packages/IPython/core/ultratb.py\", line 350, in _fixed_getinnerframes\n",
      "    records = fix_frame_records_filenames(inspect.getinnerframes(etb, context))\n",
      "  File \"/Users/zluo/miniconda/envs/defcomp/lib/python3.6/inspect.py\", line 1490, in getinnerframes\n",
      "    frameinfo = (tb.tb_frame,) + getframeinfo(tb, context)\n",
      "  File \"/Users/zluo/miniconda/envs/defcomp/lib/python3.6/inspect.py\", line 1448, in getframeinfo\n",
      "    filename = getsourcefile(frame) or getfile(frame)\n",
      "  File \"/Users/zluo/miniconda/envs/defcomp/lib/python3.6/inspect.py\", line 696, in getsourcefile\n",
      "    if getattr(getmodule(object, filename), '__loader__', None) is not None:\n",
      "  File \"/Users/zluo/miniconda/envs/defcomp/lib/python3.6/inspect.py\", line 725, in getmodule\n",
      "    file = getabsfile(object, _filename)\n",
      "  File \"/Users/zluo/miniconda/envs/defcomp/lib/python3.6/inspect.py\", line 709, in getabsfile\n",
      "    return os.path.normcase(os.path.abspath(_filename))\n",
      "  File \"/Users/zluo/miniconda/envs/defcomp/lib/python3.6/posixpath.py\", line 383, in abspath\n",
      "    cwd = os.getcwd()\n",
      "FileNotFoundError: [Errno 2] No such file or directory\n"
     ]
    }
   ],
   "source": [
    "# assign cds to transcripts\n",
    "gtf_ts = utils.assign_cds_to_ts(gtf_ts, gtf_CDS)\n",
    "gtf_ts.to_csv('../TestData/GENCODE/GRCh38/Annotation/gencode.v31.primary_assembly.annotation.ts.tab',sep='\\t',index=False)"
   ]
  },
  {
   "cell_type": "code",
   "execution_count": 5,
   "metadata": {},
   "outputs": [],
   "source": [
    "gtf_gene_coding = gtf_gene[gtf_gene['gene_type'] == 'protein_coding']\n",
    "gtf_ts_coding = gtf_ts[gtf_ts['gene_id'].isin(gtf_gene_coding['gene_id'])]\n",
    "gtf_ts_coding_tsl1and2 = gtf_ts_coding[gtf_ts_coding['transcript_support_level'].isin(['1','2',1,2])]\n",
    "gtf_exon_coding_tsl1and2 = gtf_exon[gtf_exon['transcript_id'].isin(gtf_ts_coding_tsl1and2['transcript_id'])]"
   ]
  },
  {
   "cell_type": "code",
   "execution_count": 15,
   "metadata": {},
   "outputs": [],
   "source": [
    "gtf_gene_coding\n",
    "gtf_ts_coding_tsl1and2_sample = gtf_ts_coding_tsl1and2.sample(n=1000, random_state=1992)\n",
    "with open('/Users/zluo/TestData/GENCODE/GRCh38/gtf_ts_coding_tsl1and2_sample1000_intron.bed', 'w') as intron_bed:\n",
    "    for idx, row in gtf_ts_coding_tsl1and2_sample.iterrows():\n",
    "        ts_id = row['transcript_id']\n",
    "        exons  = gtf_exon_coding_tsl1and2[gtf_exon_coding_tsl1and2['transcript_id'] == ts_id]\n",
    "        exons = exons.sort_values('exon_number')\n",
    "        exon_cnt = exons['exon_number'].max()\n",
    "        if exon_cnt < 2:\n",
    "            continue\n",
    "        for idx_exon, exon in exons.iterrows():\n",
    "            exon_number = exon['exon_number']\n",
    "            if exon_number == 1:\n",
    "                exon_end = int(exon['end'])\n",
    "                continue\n",
    "            else:\n",
    "                exon_start = int(exon['start'])\n",
    "                intron_start = exon_end\n",
    "                intron_end = exon_start\n",
    "                exon_end = int(exon['end'])\n",
    "            intron_chrom = exon['seqname']\n",
    "            intron_name = '{}:{}:{}'.format(exon['gene_name'],exon['transcript_id'],exon_number-1)\n",
    "            intron_score = row['transcript_support_level']\n",
    "            intron_strand = exon['strand']\n",
    "            intron_bed.write('{}\\t{}\\t{}\\t{}\\t{}\\t{}\\n'.format(intron_chrom, intron_start, intron_end, intron_name, int(intron_score), intron_strand))"
   ]
  },
  {
   "cell_type": "code",
   "execution_count": 65,
   "metadata": {},
   "outputs": [],
   "source": [
    "def get_alt_exons(gtf_ts, gtf_exon):\n",
    "    gtf_exon = gtf_exon.to_dict('index')\n",
    "    gtf_ts = gtf_ts.to_dict('index')\n",
    "    gene_ts_cnt = dict()\n",
    "    exon_usage = dict()\n",
    "    ts_exon_dict = dict()\n",
    "    for idx in gtf_exon:\n",
    "        transcript_id = gtf_exon[idx]['transcript_id']\n",
    "        if transcript_id not in ts_exon_dict:\n",
    "            ts_exon_dict[transcript_id] = list()\n",
    "        ts_exon_dict[transcript_id].append(idx)\n",
    "    \n",
    "    for idx in gtf_ts:\n",
    "        gene_id = gtf_ts[idx]['gene_id']\n",
    "        if gene_id not in gene_ts_cnt:\n",
    "            gene_ts_cnt[gene_id] = 0\n",
    "        gene_ts_cnt[gene_id] += 1\n",
    "    \n",
    "    for transcript_id in ts_exon_dict:\n",
    "        exon_set = sorted(ts_exon_dict[transcript_id])\n",
    "        exon_num = len(exon_set)\n",
    "        for i, exon_idx in enumerate(exon_set):\n",
    "            if i == 0 or i == exon_num - 1:\n",
    "                continue\n",
    "\n",
    "            gene_id = gtf_exon[exon_idx]['gene_id']\n",
    "            exon_id = gtf_exon[exon_idx]['seqname'] + str(gtf_exon[exon_idx]['start']) + str(gtf_exon[exon_idx]['end']) + gtf_exon[exon_idx]['strand']\n",
    "            if exon_id not in exon_usage:\n",
    "                exon_usage[exon_id] = 0\n",
    "            exon_usage[exon_id] += 1\n",
    "    alt_exon_idx = list()\n",
    "    alt_exon_coord = set()\n",
    "    for idx in gtf_exon:\n",
    "        exon_id = gtf_exon[idx]['seqname'] + str(gtf_exon[idx]['start']) + str(gtf_exon[idx]['end']) + gtf_exon[idx]['strand']\n",
    "        gene_id = gtf_exon[idx]['gene_id']\n",
    "        if exon_id in exon_usage and gene_id in gene_ts_cnt:\n",
    "            if exon_usage[exon_id] != gene_ts_cnt[gene_id]:\n",
    "                if exon_id not in alt_exon_coord:\n",
    "                    alt_exon_idx.append(idx)\n",
    "                    alt_exon_coord.add(exon_id)\n",
    "                \n",
    "    return alt_exon_idx"
   ]
  },
  {
   "cell_type": "code",
   "execution_count": 66,
   "metadata": {},
   "outputs": [],
   "source": [
    "exon_idx_list = get_alt_exons(gtf_ts_coding_tsl1and2, gtf_exon)\n",
    "gtf_exon_dict = gtf_exon.to_dict('index')\n",
    "\n",
    "with open('/Users/zluo/TestData/GENCODE/GRCh38/gencode.v31.primary_assembly.coding.alt.exon.bed', 'w') as alt_exon:\n",
    "    for idx in exon_idx_list:\n",
    "        exon = gtf_exon_dict[idx]\n",
    "        # gtf coordinates are 1-based, remember to covert to 0-based.\n",
    "        alt_exon.write('{}\\t{}\\t{}\\t{}\\t{}\\t{}\\n'.format(exon['seqname'], exon['start']-1  , exon['end'], exon['exon_id'], '.', exon['strand']))"
   ]
  },
  {
   "cell_type": "code",
   "execution_count": 76,
   "metadata": {},
   "outputs": [],
   "source": [
    "def get_introns(gtf_ts, gtf_exon):\n",
    "    gtf_ts = gtf_ts.to_dict('index')\n",
    "    gtf_exon = gtf_exon.to_dict('index')\n",
    "    ts_exon_dict = dict()\n",
    "    for idx in gtf_exon:\n",
    "        transcript_id = gtf_exon[idx]['transcript_id']\n",
    "        if transcript_id not in ts_exon_dict:\n",
    "            ts_exon_dict[transcript_id] = list()\n",
    "        ts_exon_dict[transcript_id].append(idx)\n",
    "    \n",
    "    for ts_idx in gtf_ts:\n",
    "        transcript_id = gtf_ts[ts_idx]['transcript_id']\n",
    "        exon_set = sorted(ts_exon_dict[transcript_id])\n",
    "        exon_num = len(exon_set)\n",
    "        if exon_num < 2:\n",
    "            continue\n",
    "        intron_chrom = gtf_ts[ts_idx]['seqname']\n",
    "        intron_strand = gtf_ts[ts_idx]['strand']\n",
    "        intron_start = 0\n",
    "        intron_end = 0\n",
    "        for i, exon_idx in enumerate(exon_set):\n",
    "            if i == 0:\n",
    "                if intron_strand == '+':\n",
    "                    intron_start = gtf_exon[exon_idx]['end']\n",
    "                else:\n",
    "                    intron_end = gtf_exon[exon_idx]['start']\n",
    "            else:\n",
    "                if intron_strand == '+':\n",
    "                    intron_end = gtf_exon[exon_idx]['start']\n",
    "                else:\n",
    "                    intron_start = gtf_exon[exon_idx]['end']\n",
    "                intron_name = transcript_id+'_'+str(i)\n",
    "                yield '{}\\t{}\\t{}\\t{}\\t{}\\t{}\\n'.format(intron_chrom, intron_start, intron_end, intron_name, '.', intron_strand)\n",
    "                if intron_strand == '+':\n",
    "                    intron_start = gtf_exon[exon_idx]['end']\n",
    "                else:\n",
    "                    intron_end = gtf_exon[exon_idx]['start']"
   ]
  },
  {
   "cell_type": "code",
   "execution_count": 77,
   "metadata": {},
   "outputs": [],
   "source": [
    "with open('/Users/zluo/TestData/GENCODE/GRCh38/gencode.v31.primary_assembly.coding.intron.bed', 'w') as intron_bed:\n",
    "    for intron in get_introns(gtf_ts_coding_tsl1and2, gtf_exon):\n",
    "        intron_bed.write(intron)"
   ]
  },
  {
   "cell_type": "code",
   "execution_count": 40,
   "metadata": {},
   "outputs": [],
   "source": [
    "event_stat = pd.read_csv(\"~/TestData/event_stat.tab\", sep='\\t')\n",
    "gtf_ts['start'] = pd.to_numeric(gtf_ts['start'])\n",
    "gtf_ts['end'] = pd.to_numeric(gtf_ts['end'])\n",
    "event_dis_stat = list()\n",
    "for idx, event in event_stat.iterrows():\n",
    "    coord = event['coord']\n",
    "    chrom = coord.split(':')[0]\n",
    "    strand = coord.split(':')[2]\n",
    "    start = int(coord.split(':')[1].split('-')[0])\n",
    "    end = int(coord.split(':')[1].split('-')[1])\n",
    "    protein = event['protein']\n",
    "    #if 'PABPC1' not in protein.split(','):\n",
    "        #continue\n",
    "    target_ts = gtf_ts[gtf_ts['seqname']==chrom]\n",
    "    target_ts = target_ts[target_ts['strand']==strand]\n",
    "    target_ts = target_ts[(target_ts['start']<= start) & (target_ts['end']>=end)]\n",
    "    target_ts = target_ts.head(1)\n",
    "    if strand == '+':\n",
    "        dis_abs =  int(target_ts['end'] - start)\n",
    "        dis_prop = float((start - target_ts['start']) / (target_ts['end'] -target_ts['start']))\n",
    "    else:\n",
    "        dis_abs = int(end - target_ts['start'])\n",
    "        dis_prop = float((end - target_ts['start']) / (target_ts['end'] -target_ts['start']))\n",
    "    event_dis_stat.append([dis_abs, dis_prop])\n",
    "event_dis_stat = pd.DataFrame(event_dis_stat, columns=['dis_abs','dis_prop'])"
   ]
  },
  {
   "cell_type": "code",
   "execution_count": 41,
   "metadata": {},
   "outputs": [
    {
     "data": {
      "image/png": "[encoded data removed]",
      "text/plain": [
       "<Figure size 360x360 with 1 Axes>"
      ]
     },
     "metadata": {
      "needs_background": "light"
     },
     "output_type": "display_data"
    }
   ],
   "source": [
    "import seaborn as sns\n",
    "\n",
    "ax = sns.displot(x='dis_prop',  data=event_dis_stat)\n",
    "#_ = ax.set_xticklabels(ax.get_xticklabels(),rotation=90)\n"
   ]
  }
 ],
 "metadata": {
  "kernelspec": {
   "display_name": "Python 3",
   "language": "python",
   "name": "python3"
  },
  "language_info": {
   "codemirror_mode": {
    "name": "ipython",
    "version": 3
   },
   "file_extension": ".py",
   "mimetype": "text/x-python",
   "name": "python",
   "nbconvert_exporter": "python",
   "pygments_lexer": "ipython3",
   "version": "3.6.13"
  }
 },
 "nbformat": 4,
 "nbformat_minor": 4
}
