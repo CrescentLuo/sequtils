{
 "cells": [
  {
   "cell_type": "code",
   "execution_count": null,
   "metadata": {},
   "outputs": [],
   "source": [
    "import biomart \n",
    "\n",
    "\n",
    "def get_ensembl_mappings():                                   \n",
    "    # Set up connection to server                                               \n",
    "    server = biomart.BiomartServer('http://uswest.ensembl.org/biomart')         \n",
    "    mart = server.datasets['mmusculus_gene_ensembl'] \n",
    "\n",
    "attributes = ['ensembl_transcript_id', 'mgi_symbol','ensembl_gene_id', 'ensembl_peptide_id']\n",
    "response = mart.search({'attributes': attributes}) "
   ]
  }
 ],
 "metadata": {
  "language_info": {
   "name": "python"
  }
 },
 "nbformat": 4,
 "nbformat_minor": 5
}
