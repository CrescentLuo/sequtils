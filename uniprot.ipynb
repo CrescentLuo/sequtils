{
 "cells": [
  {
   "cell_type": "code",
   "execution_count": 1,
   "metadata": {},
   "outputs": [],
   "source": [
    "import pandas as pd\n",
    "import requests\n",
    "import pathlib\n",
    "\n",
    "def extract_annotation(annotation_dir):\n",
    "    gtf_gene_annot = sorted(pathlib.Path(annotation_dir).glob(\"*.gene.tab\"))[0]\n",
    "    gtf_gene = pd.read_csv(gtf_gene_annot, sep='\\t')\n",
    "    gtf_ts_annot = sorted(pathlib.Path(annotation_dir).glob(\"*.ts.tab\"))[0]\n",
    "    gtf_ts = pd.read_csv(gtf_ts_annot, sep='\\t')\n",
    "    return gtf_gene, gtf_ts\n",
    "\n",
    "def read_entrez_meta(meta_file):\n",
    "    entrez_meta = pd.read_csv(meta_file, sep='\\t', names=['ts_id', 'entrez_id'])\n",
    "    ts2entrez = dict(zip(entrez_meta['ts_id'], entrez_meta['entrez_id']))\n",
    "    return ts2entrez\n",
    "\n",
    "gtf_gene, gtf_ts = extract_annotation('/project/Data/GENCODE/Human')\n",
    "\n"
   ]
  },
  {
   "cell_type": "code",
   "execution_count": 1,
   "metadata": {},
   "outputs": [
    {
     "name": "stdout",
     "output_type": "stream",
     "text": [
      "session initiated\n",
      "fetching entries with id:hsa:358\n"
     ]
    }
   ],
   "source": [
    "from KEGG import *\n",
    "from scripts.utils import *\n",
    "import textwrap\n",
    "kegg = KEGG(\"hsa:358\")\n",
    "seq_set = get_aa_multi_organism(kegg)\n",
    "write_seq(seq_set, file_path='./test.fa')"
   ]
  }
 ],
 "metadata": {
  "kernelspec": {
   "display_name": "Python 3.7.13 ('defcomp')",
   "language": "python",
   "name": "python3"
  },
  "language_info": {
   "codemirror_mode": {
    "name": "ipython",
    "version": 3
   },
   "file_extension": ".py",
   "mimetype": "text/x-python",
   "name": "python",
   "nbconvert_exporter": "python",
   "pygments_lexer": "ipython3",
   "version": "3.7.13"
  },
  "orig_nbformat": 4,
  "vscode": {
   "interpreter": {
    "hash": "413d7b2db6b2d43d69e8307bc226dfe6146918db00024d65b285c447da385f21"
   }
  }
 },
 "nbformat": 4,
 "nbformat_minor": 2
}
